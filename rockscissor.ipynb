{
 "cells": [
  {
   "cell_type": "code",
   "execution_count": 2,
   "id": "3214aff5",
   "metadata": {},
   "outputs": [
    {
     "name": "stdout",
     "output_type": "stream",
     "text": [
      "Lets Play Rock, Scissor, Paper:\n",
      "Choose your thing (rock, paper, or scissor:)rock\n",
      "Computer win: Paper beats rock\n"
     ]
    }
   ],
   "source": [
    "import random\n",
    "print(\"Lets Play Rock, Scissor, Paper:\")\n",
    "options = [\"rock\", \"paper\", \"scissor\"]\n",
    "userchoice = input(\"Choose your thing (rock, paper, or scissor:)\")\n",
    "computerchoice = random.choice(options)\n",
    "if userchoice == computerchoice:\n",
    "    print(\"Its a tie\")\n",
    "elif userchoice == \"rock\" and computerchoice == \"scissor\":\n",
    "    print (\"You win: rock beats scissor\")\n",
    "elif userchoice == \"scissor\" and computerchoice == \"rock\":\n",
    "    print (\"Computer win: Rock beats scissor\")\n",
    "elif userchoice == \"scissor\" and computerchoice == \"paper\":\n",
    "    print (\"you win : Scissor beats paper\")\n",
    "elif userchoice == \"paper\" and computerchoice == \"scissor\":\n",
    "    print (\"Computer win : Scissor beats paper\")\n",
    "elif userchoice == \"rock\" and computerchoice ==\"paper\":\n",
    "    print (\"Computer win: Paper beats rock\")\n",
    "elif userchoice == \"paper\" and computerchoice ==\"rock\":\n",
    "    print (\"You win: Paper beats rock\")\n",
    "else:\n",
    "    print(\"you've entered a wrong command\")"
   ]
  },
  {
   "cell_type": "code",
   "execution_count": 14,
   "id": "949a1554",
   "metadata": {},
   "outputs": [],
   "source": [
    "def greet_user(username):\n",
    "    print('heloo,'+username.upper()+\"!\")\n",
    "    "
   ]
  },
  {
   "cell_type": "code",
   "execution_count": 15,
   "id": "23084545",
   "metadata": {},
   "outputs": [
    {
     "name": "stdout",
     "output_type": "stream",
     "text": [
      "heloo,TOTO!\n"
     ]
    }
   ],
   "source": [
    "greet_user('toto')"
   ]
  },
  {
   "cell_type": "code",
   "execution_count": 29,
   "id": "90217e63",
   "metadata": {},
   "outputs": [],
   "source": [
    "def describe_pet(animal_type,pet_name):\n",
    "    print('\\n i have a'+animal_type )\n",
    "    print('my'+animal_type+'name is ' + pet_name.upper()+'.')\n",
    "    "
   ]
  },
  {
   "cell_type": "code",
   "execution_count": 30,
   "id": "da86575a",
   "metadata": {},
   "outputs": [
    {
     "name": "stdout",
     "output_type": "stream",
     "text": [
      "\n",
      " i have ahamester\n",
      "myhamestername is HARRY.\n"
     ]
    }
   ],
   "source": [
    "describe_pet('hamester','harry')"
   ]
  },
  {
   "cell_type": "code",
   "execution_count": null,
   "id": "9bfa5f37",
   "metadata": {},
   "outputs": [],
   "source": []
  }
 ],
 "metadata": {
  "kernelspec": {
   "display_name": "Python 3 (ipykernel)",
   "language": "python",
   "name": "python3"
  },
  "language_info": {
   "codemirror_mode": {
    "name": "ipython",
    "version": 3
   },
   "file_extension": ".py",
   "mimetype": "text/x-python",
   "name": "python",
   "nbconvert_exporter": "python",
   "pygments_lexer": "ipython3",
   "version": "3.9.12"
  }
 },
 "nbformat": 4,
 "nbformat_minor": 5
}
